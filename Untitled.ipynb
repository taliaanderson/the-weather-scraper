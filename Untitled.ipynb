{
 "cells": [
  {
   "cell_type": "code",
   "execution_count": 1,
   "id": "ac5b1e35-e7ac-4930-8972-be90ebc67f66",
   "metadata": {},
   "outputs": [],
   "source": [
    "import config\n",
    "from datetime import timedelta, date\n",
    "import lxml.html as lh\n",
    "import requests\n"
   ]
  },
  {
   "cell_type": "code",
   "execution_count": 3,
   "id": "3d401582-81d4-4c23-9e13-e155f21eb05d",
   "metadata": {},
   "outputs": [
    {
     "name": "stdout",
     "output_type": "stream",
     "text": [
      "1990-01-01\n"
     ]
    }
   ],
   "source": [
    "\n",
    "# Set Date format like: YYYY, MM, DD\n",
    "# Note that FIND_FIRST_DATE uses START_DATE as default start date\n",
    "START_DATE = date(1990, 1, 1)\n",
    "END_DATE = date(2023, 7, 4)\n",
    "\n",
    "# set to \"metric\" or \"imperial\"\n",
    "UNIT_SYSTEM = \"metric\"\n",
    "# UNIT_SYSTEM = \"imperial\"\n",
    "\n",
    "# Automatically find first date where data is logged\n",
    "FIND_FIRST_DATE = True\n",
    "\n",
    "print(START_DATE)"
   ]
  },
  {
   "cell_type": "code",
   "execution_count": 43,
   "id": "4feb3ec9-75c3-4e08-85d2-dd7044bf390d",
   "metadata": {},
   "outputs": [],
   "source": [
    "import pandas as pd\n",
    "from dateutil.relativedelta import relativedelta\n",
    "\n",
    "def date_range_generator(cls, start, end = date.today()):\n",
    "    month_list = pd.period_range(start=start, end=end, freq='M')\n",
    "    for i in range(int(len(month_list))):\n",
    "        print(start + relativedelta(months=i))"
   ]
  },
  {
   "cell_type": "code",
   "execution_count": 44,
   "id": "7566de19-9456-48a4-9094-886dcd21c84a",
   "metadata": {},
   "outputs": [
    {
     "name": "stdout",
     "output_type": "stream",
     "text": [
      "2023-07-04\n",
      "None\n"
     ]
    }
   ],
   "source": [
    "date_range = date_range_generator(START_DATE, END_DATE)\n",
    "print(date_range)"
   ]
  },
  {
   "cell_type": "code",
   "execution_count": 40,
   "id": "cea3198d-f735-4a10-a6d4-2c1d350d0c69",
   "metadata": {},
   "outputs": [],
   "source": [
    "for date in date_range:\n",
    "    date_string = date.strftime(\"%Y-%m-%d\")"
   ]
  },
  {
   "cell_type": "code",
   "execution_count": 41,
   "id": "872e0f3c-46b4-4b9f-9dd5-100a8221f597",
   "metadata": {},
   "outputs": [
    {
     "name": "stdout",
     "output_type": "stream",
     "text": [
      "2023-07-04\n"
     ]
    }
   ],
   "source": [
    "print(date_string)"
   ]
  },
  {
   "cell_type": "code",
   "execution_count": 37,
   "id": "22d39001-67f4-4cae-9aed-7d50e4787118",
   "metadata": {},
   "outputs": [
    {
     "name": "stdout",
     "output_type": "stream",
     "text": [
      "403\n"
     ]
    }
   ],
   "source": [
    "\n",
    "month_list = pd.period_range(start=START_DATE, end=END_DATE, freq='M')\n",
    "print(len(month_list))"
   ]
  },
  {
   "cell_type": "code",
   "execution_count": 48,
   "id": "1054ce98-ba89-4e06-986c-fca590ba4029",
   "metadata": {},
   "outputs": [
    {
     "name": "stdout",
     "output_type": "stream",
     "text": [
      "1990-01-01\n",
      "1990-02-01\n",
      "1990-03-01\n",
      "1990-04-01\n",
      "1990-05-01\n",
      "1990-06-01\n",
      "1990-07-01\n",
      "1990-08-01\n",
      "1990-09-01\n",
      "1990-10-01\n",
      "1990-11-01\n",
      "1990-12-01\n",
      "1991-01-01\n",
      "1991-02-01\n",
      "1991-03-01\n",
      "1991-04-01\n",
      "1991-05-01\n",
      "1991-06-01\n",
      "1991-07-01\n",
      "1991-08-01\n",
      "1991-09-01\n",
      "1991-10-01\n",
      "1991-11-01\n",
      "1991-12-01\n",
      "1992-01-01\n",
      "1992-02-01\n",
      "1992-03-01\n",
      "1992-04-01\n",
      "1992-05-01\n",
      "1992-06-01\n",
      "1992-07-01\n",
      "1992-08-01\n",
      "1992-09-01\n",
      "1992-10-01\n",
      "1992-11-01\n",
      "1992-12-01\n",
      "1993-01-01\n",
      "1993-02-01\n",
      "1993-03-01\n",
      "1993-04-01\n",
      "1993-05-01\n",
      "1993-06-01\n",
      "1993-07-01\n",
      "1993-08-01\n",
      "1993-09-01\n",
      "1993-10-01\n",
      "1993-11-01\n",
      "1993-12-01\n",
      "1994-01-01\n",
      "1994-02-01\n",
      "1994-03-01\n",
      "1994-04-01\n",
      "1994-05-01\n",
      "1994-06-01\n",
      "1994-07-01\n",
      "1994-08-01\n",
      "1994-09-01\n",
      "1994-10-01\n",
      "1994-11-01\n",
      "1994-12-01\n",
      "1995-01-01\n",
      "1995-02-01\n",
      "1995-03-01\n",
      "1995-04-01\n",
      "1995-05-01\n",
      "1995-06-01\n",
      "1995-07-01\n",
      "1995-08-01\n",
      "1995-09-01\n",
      "1995-10-01\n",
      "1995-11-01\n",
      "1995-12-01\n",
      "1996-01-01\n",
      "1996-02-01\n",
      "1996-03-01\n",
      "1996-04-01\n",
      "1996-05-01\n",
      "1996-06-01\n",
      "1996-07-01\n",
      "1996-08-01\n",
      "1996-09-01\n",
      "1996-10-01\n",
      "1996-11-01\n",
      "1996-12-01\n",
      "1997-01-01\n",
      "1997-02-01\n",
      "1997-03-01\n",
      "1997-04-01\n",
      "1997-05-01\n",
      "1997-06-01\n",
      "1997-07-01\n",
      "1997-08-01\n",
      "1997-09-01\n",
      "1997-10-01\n",
      "1997-11-01\n",
      "1997-12-01\n",
      "1998-01-01\n",
      "1998-02-01\n",
      "1998-03-01\n",
      "1998-04-01\n",
      "1998-05-01\n",
      "1998-06-01\n",
      "1998-07-01\n",
      "1998-08-01\n",
      "1998-09-01\n",
      "1998-10-01\n",
      "1998-11-01\n",
      "1998-12-01\n",
      "1999-01-01\n",
      "1999-02-01\n",
      "1999-03-01\n",
      "1999-04-01\n",
      "1999-05-01\n",
      "1999-06-01\n",
      "1999-07-01\n",
      "1999-08-01\n",
      "1999-09-01\n",
      "1999-10-01\n",
      "1999-11-01\n",
      "1999-12-01\n",
      "2000-01-01\n",
      "2000-02-01\n",
      "2000-03-01\n",
      "2000-04-01\n",
      "2000-05-01\n",
      "2000-06-01\n",
      "2000-07-01\n",
      "2000-08-01\n",
      "2000-09-01\n",
      "2000-10-01\n",
      "2000-11-01\n",
      "2000-12-01\n",
      "2001-01-01\n",
      "2001-02-01\n",
      "2001-03-01\n",
      "2001-04-01\n",
      "2001-05-01\n",
      "2001-06-01\n",
      "2001-07-01\n",
      "2001-08-01\n",
      "2001-09-01\n",
      "2001-10-01\n",
      "2001-11-01\n",
      "2001-12-01\n",
      "2002-01-01\n",
      "2002-02-01\n",
      "2002-03-01\n",
      "2002-04-01\n",
      "2002-05-01\n",
      "2002-06-01\n",
      "2002-07-01\n",
      "2002-08-01\n",
      "2002-09-01\n",
      "2002-10-01\n",
      "2002-11-01\n",
      "2002-12-01\n",
      "2003-01-01\n",
      "2003-02-01\n",
      "2003-03-01\n",
      "2003-04-01\n",
      "2003-05-01\n",
      "2003-06-01\n",
      "2003-07-01\n",
      "2003-08-01\n",
      "2003-09-01\n",
      "2003-10-01\n",
      "2003-11-01\n",
      "2003-12-01\n",
      "2004-01-01\n",
      "2004-02-01\n",
      "2004-03-01\n",
      "2004-04-01\n",
      "2004-05-01\n",
      "2004-06-01\n",
      "2004-07-01\n",
      "2004-08-01\n",
      "2004-09-01\n",
      "2004-10-01\n",
      "2004-11-01\n",
      "2004-12-01\n",
      "2005-01-01\n",
      "2005-02-01\n",
      "2005-03-01\n",
      "2005-04-01\n",
      "2005-05-01\n",
      "2005-06-01\n",
      "2005-07-01\n",
      "2005-08-01\n",
      "2005-09-01\n",
      "2005-10-01\n",
      "2005-11-01\n",
      "2005-12-01\n",
      "2006-01-01\n",
      "2006-02-01\n",
      "2006-03-01\n",
      "2006-04-01\n",
      "2006-05-01\n",
      "2006-06-01\n",
      "2006-07-01\n",
      "2006-08-01\n",
      "2006-09-01\n",
      "2006-10-01\n",
      "2006-11-01\n",
      "2006-12-01\n",
      "2007-01-01\n",
      "2007-02-01\n",
      "2007-03-01\n",
      "2007-04-01\n",
      "2007-05-01\n",
      "2007-06-01\n",
      "2007-07-01\n",
      "2007-08-01\n",
      "2007-09-01\n",
      "2007-10-01\n",
      "2007-11-01\n",
      "2007-12-01\n",
      "2008-01-01\n",
      "2008-02-01\n",
      "2008-03-01\n",
      "2008-04-01\n",
      "2008-05-01\n",
      "2008-06-01\n",
      "2008-07-01\n",
      "2008-08-01\n",
      "2008-09-01\n",
      "2008-10-01\n",
      "2008-11-01\n",
      "2008-12-01\n",
      "2009-01-01\n",
      "2009-02-01\n",
      "2009-03-01\n",
      "2009-04-01\n",
      "2009-05-01\n",
      "2009-06-01\n",
      "2009-07-01\n",
      "2009-08-01\n",
      "2009-09-01\n",
      "2009-10-01\n",
      "2009-11-01\n",
      "2009-12-01\n",
      "2010-01-01\n",
      "2010-02-01\n",
      "2010-03-01\n",
      "2010-04-01\n",
      "2010-05-01\n",
      "2010-06-01\n",
      "2010-07-01\n",
      "2010-08-01\n",
      "2010-09-01\n",
      "2010-10-01\n",
      "2010-11-01\n",
      "2010-12-01\n",
      "2011-01-01\n",
      "2011-02-01\n",
      "2011-03-01\n",
      "2011-04-01\n",
      "2011-05-01\n",
      "2011-06-01\n",
      "2011-07-01\n",
      "2011-08-01\n",
      "2011-09-01\n",
      "2011-10-01\n",
      "2011-11-01\n",
      "2011-12-01\n",
      "2012-01-01\n",
      "2012-02-01\n",
      "2012-03-01\n",
      "2012-04-01\n",
      "2012-05-01\n",
      "2012-06-01\n",
      "2012-07-01\n",
      "2012-08-01\n",
      "2012-09-01\n",
      "2012-10-01\n",
      "2012-11-01\n",
      "2012-12-01\n",
      "2013-01-01\n",
      "2013-02-01\n",
      "2013-03-01\n",
      "2013-04-01\n",
      "2013-05-01\n",
      "2013-06-01\n",
      "2013-07-01\n",
      "2013-08-01\n",
      "2013-09-01\n",
      "2013-10-01\n",
      "2013-11-01\n",
      "2013-12-01\n",
      "2014-01-01\n",
      "2014-02-01\n",
      "2014-03-01\n",
      "2014-04-01\n",
      "2014-05-01\n",
      "2014-06-01\n",
      "2014-07-01\n",
      "2014-08-01\n",
      "2014-09-01\n",
      "2014-10-01\n",
      "2014-11-01\n",
      "2014-12-01\n",
      "2015-01-01\n",
      "2015-02-01\n",
      "2015-03-01\n",
      "2015-04-01\n",
      "2015-05-01\n",
      "2015-06-01\n",
      "2015-07-01\n",
      "2015-08-01\n",
      "2015-09-01\n",
      "2015-10-01\n",
      "2015-11-01\n",
      "2015-12-01\n",
      "2016-01-01\n",
      "2016-02-01\n",
      "2016-03-01\n",
      "2016-04-01\n",
      "2016-05-01\n",
      "2016-06-01\n",
      "2016-07-01\n",
      "2016-08-01\n",
      "2016-09-01\n",
      "2016-10-01\n",
      "2016-11-01\n",
      "2016-12-01\n",
      "2017-01-01\n",
      "2017-02-01\n",
      "2017-03-01\n",
      "2017-04-01\n",
      "2017-05-01\n",
      "2017-06-01\n",
      "2017-07-01\n",
      "2017-08-01\n",
      "2017-09-01\n",
      "2017-10-01\n",
      "2017-11-01\n",
      "2017-12-01\n",
      "2018-01-01\n",
      "2018-02-01\n",
      "2018-03-01\n",
      "2018-04-01\n",
      "2018-05-01\n",
      "2018-06-01\n",
      "2018-07-01\n",
      "2018-08-01\n",
      "2018-09-01\n",
      "2018-10-01\n",
      "2018-11-01\n",
      "2018-12-01\n",
      "2019-01-01\n",
      "2019-02-01\n",
      "2019-03-01\n",
      "2019-04-01\n",
      "2019-05-01\n",
      "2019-06-01\n",
      "2019-07-01\n",
      "2019-08-01\n",
      "2019-09-01\n",
      "2019-10-01\n",
      "2019-11-01\n",
      "2019-12-01\n",
      "2020-01-01\n",
      "2020-02-01\n",
      "2020-03-01\n",
      "2020-04-01\n",
      "2020-05-01\n",
      "2020-06-01\n",
      "2020-07-01\n",
      "2020-08-01\n",
      "2020-09-01\n",
      "2020-10-01\n",
      "2020-11-01\n",
      "2020-12-01\n",
      "2021-01-01\n",
      "2021-02-01\n",
      "2021-03-01\n",
      "2021-04-01\n",
      "2021-05-01\n",
      "2021-06-01\n",
      "2021-07-01\n",
      "2021-08-01\n",
      "2021-09-01\n",
      "2021-10-01\n",
      "2021-11-01\n",
      "2021-12-01\n",
      "2022-01-01\n",
      "2022-02-01\n",
      "2022-03-01\n",
      "2022-04-01\n",
      "2022-05-01\n",
      "2022-06-01\n",
      "2022-07-01\n",
      "2022-08-01\n",
      "2022-09-01\n",
      "2022-10-01\n",
      "2022-11-01\n",
      "2022-12-01\n",
      "2023-01-01\n",
      "2023-02-01\n",
      "2023-03-01\n",
      "2023-04-01\n",
      "2023-05-01\n",
      "2023-06-01\n",
      "2023-07-01\n"
     ]
    }
   ],
   "source": [
    "for i in range(int(len(month_list))):\n",
    "    print(START_DATE + relativedelta(months=i))"
   ]
  },
  {
   "cell_type": "code",
   "execution_count": 49,
   "id": "064c0971-0927-4931-9443-e3bc0451ad85",
   "metadata": {},
   "outputs": [],
   "source": [
    "import requests\n",
    "import csv\n",
    "import lxml.html as lh"
   ]
  },
  {
   "cell_type": "code",
   "execution_count": 51,
   "id": "ec3b97ef-ae49-426d-bd26-d18ac7c5c721",
   "metadata": {},
   "outputs": [],
   "source": [
    "url = 'https://www.wunderground.com/dashboard/pws/ICHIQU6/table/2023-02-01/2023-02-01/monthly'\n",
    "session = requests.Session()\n",
    "timeout = 5\n",
    "html_string = session.get(url, timeout=timeout)"
   ]
  },
  {
   "cell_type": "code",
   "execution_count": 52,
   "id": "7dfa0311-3f2c-442b-a144-93f1bacb6a90",
   "metadata": {},
   "outputs": [
    {
     "name": "stdout",
     "output_type": "stream",
     "text": [
      "<Response [200]>\n"
     ]
    }
   ],
   "source": [
    "print(html_string)"
   ]
  },
  {
   "cell_type": "code",
   "execution_count": 54,
   "id": "a6c695ea-332b-454d-8340-5879290bdd7f",
   "metadata": {},
   "outputs": [],
   "source": [
    "doc = lh.fromstring(html_string.content)\n",
    "history_table = doc.xpath('//*[@id=\"main-page-content\"]/div/div/div/lib-history/div[2]/lib-history-table/div/div/div/table/tbody')\n"
   ]
  },
  {
   "cell_type": "code",
   "execution_count": 55,
   "id": "0572c2b5-43d0-4cfe-b543-51e8f77239a7",
   "metadata": {},
   "outputs": [
    {
     "name": "stdout",
     "output_type": "stream",
     "text": [
      "[<Element tbody at 0x7fa6c8c77950>]\n"
     ]
    }
   ],
   "source": [
    "print(history_table)"
   ]
  },
  {
   "cell_type": "code",
   "execution_count": 59,
   "id": "97ba4482-82e9-4554-9e7c-4002dd7a7208",
   "metadata": {},
   "outputs": [
    {
     "ename": "IndexError",
     "evalue": "list index out of range",
     "output_type": "error",
     "traceback": [
      "\u001b[0;31m---------------------------------------------------------------------------\u001b[0m",
      "\u001b[0;31mIndexError\u001b[0m                                Traceback (most recent call last)",
      "Input \u001b[0;32mIn [59]\u001b[0m, in \u001b[0;36m<cell line: 2>\u001b[0;34m()\u001b[0m\n\u001b[1;32m      1\u001b[0m \u001b[38;5;28;01mfrom\u001b[39;00m \u001b[38;5;21;01mutil\u001b[39;00m\u001b[38;5;21;01m.\u001b[39;00m\u001b[38;5;21;01mParser\u001b[39;00m \u001b[38;5;28;01mimport\u001b[39;00m Parser\n\u001b[0;32m----> 2\u001b[0m data_rows \u001b[38;5;241m=\u001b[39m \u001b[43mParser\u001b[49m\u001b[38;5;241;43m.\u001b[39;49m\u001b[43mparse_html_table\u001b[49m\u001b[43m(\u001b[49m\u001b[38;5;124;43m'\u001b[39;49m\u001b[38;5;124;43m2023-02-01\u001b[39;49m\u001b[38;5;124;43m'\u001b[39;49m\u001b[43m,\u001b[49m\u001b[43m \u001b[49m\u001b[43mhistory_table\u001b[49m\u001b[43m)\u001b[49m\n",
      "File \u001b[0;32m~/GithubProjects/the-weather-scraper/util/Parser.py:19\u001b[0m, in \u001b[0;36mParser.parse_html_table\u001b[0;34m(date_string, history_table)\u001b[0m\n\u001b[1;32m     16\u001b[0m data_rows \u001b[38;5;241m=\u001b[39m []\n\u001b[1;32m     18\u001b[0m \u001b[38;5;66;03m# set Table Headers\u001b[39;00m\n\u001b[0;32m---> 19\u001b[0m \u001b[38;5;28;01mfor\u001b[39;00m header \u001b[38;5;129;01min\u001b[39;00m \u001b[43mtable_rows\u001b[49m\u001b[43m[\u001b[49m\u001b[38;5;241;43m0\u001b[39;49m\u001b[43m]\u001b[49m:\n\u001b[1;32m     20\u001b[0m     headers_list\u001b[38;5;241m.\u001b[39mappend(header\u001b[38;5;241m.\u001b[39mtext)\n\u001b[1;32m     22\u001b[0m \u001b[38;5;28;01mfor\u001b[39;00m tr \u001b[38;5;129;01min\u001b[39;00m table_rows[\u001b[38;5;241m1\u001b[39m:]:\n",
      "\u001b[0;31mIndexError\u001b[0m: list index out of range"
     ]
    }
   ],
   "source": [
    "from util.Parser import Parser\n",
    "data_rows = Parser.parse_html_table('2023-02-01', history_table)\n"
   ]
  },
  {
   "cell_type": "code",
   "execution_count": 72,
   "id": "6a1b4922-c00f-4e06-8646-29c0c285611b",
   "metadata": {},
   "outputs": [
    {
     "name": "stdout",
     "output_type": "stream",
     "text": [
      "[<Element tr at 0x7fa6c8cb3860>]\n",
      "[<Element tr at 0x7fa6c8c11360>, <Element tr at 0x7fa6c8c11180>, <Element tr at 0x7fa6c8c110e0>, <Element tr at 0x7fa6c8c111d0>, <Element tr at 0x7fa6c8c11680>, <Element tr at 0x7fa6c8c11630>, <Element tr at 0x7fa6c8c11540>, <Element tr at 0x7fa6c8c114a0>, <Element tr at 0x7fa6c8c11ef0>, <Element tr at 0x7fa6c1572a40>, <Element tr at 0x7fa6c8c17180>, <Element tr at 0x7fa6c8c17220>, <Element tr at 0x7fa6c8c170e0>, <Element tr at 0x7fa6c8c173b0>, <Element tr at 0x7fa6c8c17360>, <Element tr at 0x7fa6c8c171d0>, <Element tr at 0x7fa6c8c172c0>, <Element tr at 0x7fa6c8c17270>, <Element tr at 0x7fa6c8c17130>, <Element tr at 0x7fa6c8c17ef0>, <Element tr at 0x7fa6c8c17310>, <Element tr at 0x7fa6c8c17e00>, <Element tr at 0x7fa6c8c17400>, <Element tr at 0x7fa6c8c17c70>, <Element tr at 0x7fa6c8c179f0>, <Element tr at 0x7fa6c8c17a40>, <Element tr at 0x7fa6c8c17860>, <Element tr at 0x7fa6c8c177c0>, <Element tr at 0x7fa6c8c17ea0>]\n"
     ]
    }
   ],
   "source": [
    "header_rows = [hr for hr in history_table[0].xpath('//tr') if len(hr) == 7]\n",
    "print(header_rows)\n",
    "\n",
    "table_rows = [tr for tr in history_table[0].xpath('//tr') if len(tr) == 16]\n",
    "print(table_rows)"
   ]
  },
  {
   "cell_type": "code",
   "execution_count": 96,
   "id": "a271036c-9e1d-4097-b39e-2d4215e1627e",
   "metadata": {},
   "outputs": [
    {
     "name": "stdout",
     "output_type": "stream",
     "text": [
      "['DateDateDate', 'Temperature_Temperature_High', 'Temperature_Temperature_Avg', 'Temperature_Temperature_Low', 'Dew_Point_Dew_Point_High', 'Dew_Point_Dew_Point_Avg', 'Dew_Point_Dew_Point_Low', 'Humidity_Humidity_High', 'Humidity_Humidity_Avg', 'Humidity_Humidity_Low', 'WindSpeed_WindSpeed_High', 'WindSpeed_WindSpeed_Avg', 'WindSpeed_WindSpeed_Low', 'Pressure_Pressure_High', 'Pressure_Pressure_Low', 'Precip_Precip_Sum', 'DTemperature_aTemperature_tTemperature_e', 'HTemperature_iTemperature_gTemperature_h', 'ATemperature_vTemperature_g', 'LTemperature_oTemperature_w', 'HTemperature_iTemperature_gTemperature_h', 'ATemperature_vTemperature_g', 'LTemperature_oTemperature_w', 'HTemperature_iTemperature_gTemperature_h', 'ATemperature_vTemperature_g', 'LTemperature_oTemperature_w', 'HTemperature_iTemperature_gTemperature_h', 'ATemperature_vTemperature_g', 'LTemperature_oTemperature_w', 'HTemperature_iTemperature_gTemperature_h', 'LTemperature_oTemperature_w', 'STemperature_uTemperature_m', 'DTemperature_aTemperature_tTemperature_e', 'HTemperature_iTemperature_gTemperature_h', 'ATemperature_vTemperature_g', 'LTemperature_oTemperature_w', 'HTemperature_iTemperature_gTemperature_h', 'ATemperature_vTemperature_g', 'LTemperature_oTemperature_w', 'HTemperature_iTemperature_gTemperature_h', 'ATemperature_vTemperature_g', 'LTemperature_oTemperature_w', 'HTemperature_iTemperature_gTemperature_h', 'ATemperature_vTemperature_g', 'LTemperature_oTemperature_w', 'HTemperature_iTemperature_gTemperature_h', 'LTemperature_oTemperature_w', 'STemperature_uTemperature_m', 'Temperature_Date', 'Temperature_High', 'Temperature_Avg', 'Temperature_Low', 'Temperature_High', 'Temperature_Avg', 'Temperature_Low', 'Temperature_High', 'Temperature_Avg', 'Temperature_Low', 'Temperature_High', 'Temperature_Avg', 'Temperature_Low', 'Temperature_High', 'Temperature_Low', 'Temperature_Sum', 'Temperature_Date', 'Temperature_High', 'Temperature_Avg', 'Temperature_Low', 'Temperature_High', 'Temperature_Avg', 'Temperature_Low', 'Temperature_High', 'Temperature_Avg', 'Temperature_Low', 'Temperature_High', 'Temperature_Avg', 'Temperature_Low', 'Temperature_High', 'Temperature_Low', 'Temperature_Sum', 'Date', 'High', 'Avg', 'Low', 'High', 'Avg', 'Low', 'High', 'Avg', 'Low', 'High', 'Avg', 'Low', 'High', 'Low', 'Sum', 'Date', 'High', 'Avg', 'Low', 'High', 'Avg', 'Low', 'High', 'Avg', 'Low', 'High', 'Avg', 'Low', 'High', 'Low', 'Sum', 'DateDate', 'Temperature_High', 'Temperature_Avg', 'Temperature_Low', 'Dew_Point_High', 'Dew_Point_Avg', 'Dew_Point_Low', 'Humidity_High', 'Humidity_Avg', 'Humidity_Low', 'WindSpeed_High', 'WindSpeed_Avg', 'WindSpeed_Low', 'Pressure_High', 'Pressure_Low', 'Precip_Sum', 'DateDate', 'Temperature_High', 'Temperature_Avg', 'Temperature_Low', 'Dew_Point_High', 'Dew_Point_Avg', 'Dew_Point_Low', 'Humidity_High', 'Humidity_Avg', 'Humidity_Low', 'WindSpeed_High', 'WindSpeed_Avg', 'WindSpeed_Low', 'Pressure_High', 'Pressure_Low', 'Precip_Sum', 'Date', 'Temperature_High', 'Temperature_Avg', 'Temperature_Low', 'Dew_Point_High', 'Dew_Point_Avg', 'Dew_Point_Low', 'Humidity_High', 'Humidity_Avg', 'Humidity_Low', 'WindSpeed_High', 'WindSpeed_Avg', 'WindSpeed_Low', 'Pressure_High', 'Pressure_Low', 'Precip_Sum']\n"
     ]
    }
   ],
   "source": [
    "overarch_headers = ['', 'Temperature_','Temperature_','Temperature_','Dew_Point_','Dew_Point_','Dew_Point_','Humidity_',\n",
    "                   'Humidity_','Humidity_', 'WindSpeed_','WindSpeed_','WindSpeed_','Pressure_','Pressure_', 'Precip_']\n",
    "#for header in table_rows[0]:\n",
    " #           headers_list.append(header.text)\n",
    "#for i in range(len(table_rows[0])):\n",
    " #              headers_list[i]= overarch_headers[i]+headers_list[i]      \n",
    "for i in range(len(table_rows[0])):\n",
    "    all_cols = table_rows[0]\n",
    "    header = all_cols[i]\n",
    "    headers_list.append(overarch_headers[i]+header.text)\n",
    "\n",
    "\n",
    "print(headers_list)"
   ]
  },
  {
   "cell_type": "code",
   "execution_count": 88,
   "id": "f045487e-bab3-4375-b693-8f31506621a5",
   "metadata": {},
   "outputs": [
    {
     "name": "stdout",
     "output_type": "stream",
     "text": [
      "range(0, 16)\n"
     ]
    }
   ],
   "source": [
    "print(range(len(table_rows[0])))\n"
   ]
  },
  {
   "cell_type": "code",
   "execution_count": 70,
   "id": "0ef9540b-6ccf-4151-a79f-83f49214191e",
   "metadata": {},
   "outputs": [
    {
     "ename": "AttributeError",
     "evalue": "'int' object has no attribute 'getchildren'",
     "output_type": "error",
     "traceback": [
      "\u001b[0;31m---------------------------------------------------------------------------\u001b[0m",
      "\u001b[0;31mAttributeError\u001b[0m                            Traceback (most recent call last)",
      "Input \u001b[0;32mIn [70]\u001b[0m, in \u001b[0;36m<cell line: 2>\u001b[0;34m()\u001b[0m\n\u001b[1;32m      1\u001b[0m tr\u001b[38;5;241m=\u001b[39m\u001b[38;5;241m0\u001b[39m\n\u001b[0;32m----> 2\u001b[0m \u001b[38;5;28;01mfor\u001b[39;00m i, td \u001b[38;5;129;01min\u001b[39;00m \u001b[38;5;28menumerate\u001b[39m(\u001b[43mtr\u001b[49m\u001b[38;5;241;43m.\u001b[39;49m\u001b[43mgetchildren\u001b[49m()):\n\u001b[1;32m      3\u001b[0m                 td_content \u001b[38;5;241m=\u001b[39m unicodedata\u001b[38;5;241m.\u001b[39mnormalize(\u001b[38;5;124m\"\u001b[39m\u001b[38;5;124mNFKD\u001b[39m\u001b[38;5;124m\"\u001b[39m, td\u001b[38;5;241m.\u001b[39mtext_content())\n",
      "\u001b[0;31mAttributeError\u001b[0m: 'int' object has no attribute 'getchildren'"
     ]
    }
   ],
   "source": [
    "tr=0\n",
    "for i, td in enumerate(tr.getchildren()):\n",
    "                td_content = unicodedata.normalize(\"NFKD\", td.text_content())\n"
   ]
  }
 ],
 "metadata": {
  "kernelspec": {
   "display_name": "Python 3 (ipykernel)",
   "language": "python",
   "name": "python3"
  },
  "language_info": {
   "codemirror_mode": {
    "name": "ipython",
    "version": 3
   },
   "file_extension": ".py",
   "mimetype": "text/x-python",
   "name": "python",
   "nbconvert_exporter": "python",
   "pygments_lexer": "ipython3",
   "version": "3.9.12"
  }
 },
 "nbformat": 4,
 "nbformat_minor": 5
}
